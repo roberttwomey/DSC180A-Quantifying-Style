{
 "cells": [
  {
   "cell_type": "markdown",
   "metadata": {},
   "source": [
    "### Large Plots"
   ]
  },
  {
   "cell_type": "markdown",
   "metadata": {},
   "source": [
    "Making large plots and writing them to file. Adapt this to your own images and figures you wish to generate."
   ]
  },
  {
   "cell_type": "code",
   "execution_count": null,
   "metadata": {},
   "outputs": [],
   "source": []
  },
  {
   "cell_type": "code",
   "execution_count": null,
   "metadata": {},
   "outputs": [],
   "source": [
    "import numpy as np\n",
    "from matplotlib import pyplot as plt\n",
    "%matplotlib inline"
   ]
  },
  {
   "cell_type": "code",
   "execution_count": null,
   "metadata": {},
   "outputs": [],
   "source": [
    "from skimage import io\n",
    "from scipy import ndimage\n",
    "from skimage.color import rgb2hsv\n",
    "import skimage\n",
    "from PIL import Image\n",
    "import random"
   ]
  },
  {
   "cell_type": "markdown",
   "metadata": {},
   "source": [
    "### Load and display images with skimage"
   ]
  },
  {
   "cell_type": "code",
   "execution_count": null,
   "metadata": {},
   "outputs": [],
   "source": [
    "abstract = io.imread('https://images.rkd.nl/rkd/thumb/650x650/56c1a7ff-4661-12ea-e5bc-0f8be29c977a.jpg')\n",
    "io.imshow(abstract)\n",
    "io.imsave(\"abstract.jpg\", abstract)"
   ]
  },
  {
   "cell_type": "code",
   "execution_count": null,
   "metadata": {},
   "outputs": [],
   "source": [
    "# landscape = io.imread('https://images.rkd.nl/rkd/thumb/650x650/f4ecda17-2066-67e9-aa3f-b6d58df1607c.jpg')\n",
    "landscape = io.imread('https://images.rkd.nl/rkd/thumb/650x650/bcb9558d-08a1-a57f-b5fc-ec562c446838.jpg')\n",
    "io.imshow(landscape)\n",
    "io.imsave(\"landscape.jpg\", landscape)"
   ]
  },
  {
   "cell_type": "markdown",
   "metadata": {},
   "source": [
    "### Create a thumbnail"
   ]
  },
  {
   "cell_type": "code",
   "execution_count": null,
   "metadata": {},
   "outputs": [],
   "source": [
    "# make thumbnail\n",
    "landscape = Image.open(\"landscape.jpg\") #25x25\n",
    "size = 128, 128\n",
    "landscape.thumbnail(size)\n",
    "landscape.save(\"land_thumb.jpg\")"
   ]
  },
  {
   "cell_type": "code",
   "execution_count": null,
   "metadata": {},
   "outputs": [],
   "source": [
    "abstract = Image.open(\"abstract.jpg\") #25x25\n",
    "size = 128, 128\n",
    "abstract.thumbnail(size)\n",
    "abstract.save(\"abs_thumb.jpg\")"
   ]
  },
  {
   "cell_type": "markdown",
   "metadata": {},
   "source": [
    "### Create a folder full of thumbnails\n",
    "\n",
    "https://pillow.readthedocs.io/en/3.1.x/reference/Image.html#create-thumbnails"
   ]
  },
  {
   "cell_type": "code",
   "execution_count": null,
   "metadata": {},
   "outputs": [],
   "source": [
    "# TO DO\n"
   ]
  },
  {
   "cell_type": "markdown",
   "metadata": {},
   "source": [
    "### Create large plot on empty canvas"
   ]
  },
  {
   "cell_type": "code",
   "execution_count": null,
   "metadata": {},
   "outputs": [],
   "source": [
    "# create background image\n",
    "GLOBAL_WIDTH = 15000\n",
    "bg_color = (192, 192, 192) # gray, you can choose your own\n",
    "figure = Image.new('RGB', (GLOBAL_WIDTH, GLOBAL_WIDTH), bg_color)"
   ]
  },
  {
   "cell_type": "code",
   "execution_count": null,
   "metadata": {},
   "outputs": [],
   "source": [
    "# generate random coords (substitute your calculated coordinates for given plot)\n",
    "num_points = 100\n",
    "coords = [(int(random.random()*GLOBAL_WIDTH), int(random.random()*GLOBAL_WIDTH)) for _ in range(num_points)]"
   ]
  },
  {
   "cell_type": "code",
   "execution_count": null,
   "metadata": {},
   "outputs": [],
   "source": [
    "# make a list of corresponding thumbnails (random for now, substitute with yours)\n",
    "filenames = [\"abs_thumb.jpg\", \"land_thumb.jpg\"]\n",
    "thumbs = random.choices(filenames, k=num_points)"
   ]
  },
  {
   "cell_type": "code",
   "execution_count": null,
   "metadata": {},
   "outputs": [],
   "source": [
    "# iterate over images/coords and draw to image\n",
    "for i in range(len(coords)):\n",
    "    thumb_img = Image.open(thumbs[i])\n",
    "    figure.paste(thumb_img, coords[i])"
   ]
  },
  {
   "cell_type": "markdown",
   "metadata": {},
   "source": [
    "### Write to file\n",
    "\n",
    "different file formats have different tradeoffs: \n",
    "- TIF and PNG are huge (670 MB, uncompressed)\n",
    "- JPG is more manageable for testing"
   ]
  },
  {
   "cell_type": "code",
   "execution_count": null,
   "metadata": {},
   "outputs": [],
   "source": [
    "# background.save(\"figure.tif\")\n",
    "# background.save(\"figure.png\")\n",
    "figure.save(\"figure.jpg\")"
   ]
  }
 ],
 "metadata": {
  "kernelspec": {
   "display_name": "Python 3",
   "language": "python",
   "name": "python3"
  },
  "language_info": {
   "codemirror_mode": {
    "name": "ipython",
    "version": 3
   },
   "file_extension": ".py",
   "mimetype": "text/x-python",
   "name": "python",
   "nbconvert_exporter": "python",
   "pygments_lexer": "ipython3",
   "version": "3.7.3"
  }
 },
 "nbformat": 4,
 "nbformat_minor": 4
}
