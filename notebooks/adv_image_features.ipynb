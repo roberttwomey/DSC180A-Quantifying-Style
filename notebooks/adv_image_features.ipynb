{
 "cells": [
  {
   "cell_type": "markdown",
   "metadata": {},
   "source": [
    "### Advanced Image Features"
   ]
  },
  {
   "cell_type": "markdown",
   "metadata": {},
   "source": [
    "OpenCV (computer vision) has lots of great advanced image processing techniques: https://opencv.org/\n",
    "\n",
    "install opencv if necessary"
   ]
  },
  {
   "cell_type": "code",
   "execution_count": null,
   "metadata": {},
   "outputs": [],
   "source": [
    "#!pip install opencv-python-headless --user\n",
    "#!pip install opencv-contrib-python-headless --user"
   ]
  },
  {
   "cell_type": "code",
   "execution_count": null,
   "metadata": {},
   "outputs": [],
   "source": [
    "import cv2\n",
    "import numpy as np\n",
    "from matplotlib import pyplot as plt\n",
    "\n",
    "%matplotlib inline"
   ]
  },
  {
   "cell_type": "code",
   "execution_count": null,
   "metadata": {},
   "outputs": [],
   "source": [
    "from skimage import io\n",
    "from scipy import ndimage\n",
    "from skimage.color import rgb2hsv\n",
    "import skimage"
   ]
  },
  {
   "cell_type": "code",
   "execution_count": null,
   "metadata": {},
   "outputs": [],
   "source": [
    "abstract = io.imread('https://images.rkd.nl/rkd/thumb/650x650/56c1a7ff-4661-12ea-e5bc-0f8be29c977a.jpg')\n",
    "io.imshow(abstract)"
   ]
  },
  {
   "cell_type": "code",
   "execution_count": null,
   "metadata": {},
   "outputs": [],
   "source": [
    "# landscape = io.imread('https://images.rkd.nl/rkd/thumb/650x650/f4ecda17-2066-67e9-aa3f-b6d58df1607c.jpg')\n",
    "landscape = io.imread('https://images.rkd.nl/rkd/thumb/650x650/bcb9558d-08a1-a57f-b5fc-ec562c446838.jpg')\n",
    "io.imshow(landscape)"
   ]
  },
  {
   "cell_type": "markdown",
   "metadata": {},
   "source": [
    "## calc edges with sobel"
   ]
  },
  {
   "cell_type": "code",
   "execution_count": null,
   "metadata": {},
   "outputs": [],
   "source": [
    "img = abstract\n",
    "# img = landscape\n",
    "\n",
    "# gray = cv2.cvtColor(img,cv2.COLOR_BGR2GRAY)\n",
    "# edges = cv2.Canny(gray,50,150,apertureSize = 3)\n",
    "\n",
    "hsv_img = rgb2hsv(img)\n",
    "value_img = hsv_img[:, :, 2]\n",
    "\n",
    "sobel_x = ndimage.sobel(value_img, axis=0, mode='constant')\n",
    "sobel_y = ndimage.sobel(value_img, axis=1, mode='constant')\n",
    "edge_image = np.hypot(sobel_x, sobel_y)\n",
    "\n",
    "plt.imshow(edge_image, cmap='gray')"
   ]
  },
  {
   "cell_type": "markdown",
   "metadata": {},
   "source": [
    "## calc hough lines\n",
    "\n",
    "ref: https://opencv-python-tutroals.readthedocs.io/en/latest/py_tutorials/py_imgproc/py_houghlines/py_houghlines.html"
   ]
  },
  {
   "cell_type": "code",
   "execution_count": null,
   "metadata": {},
   "outputs": [],
   "source": [
    "\n",
    "# convert from skimage to opencv image format\n",
    "temp = exposure.rescale_intensity(edge_image, out_range=(-1.0, 1.0))\n",
    "edges = skimage.img_as_ubyte(np.clip(temp, -1, 1))\n",
    "\n",
    "# calculate hough lines\n",
    "lines = cv2.HoughLines(edges,1,np.pi/180,100)\n",
    "\n",
    "for x in range(0, len(lines)):    \n",
    "    for rho, theta in lines[x]:\n",
    "        a = np.cos(theta)\n",
    "        b = np.sin(theta)\n",
    "        x0 = a*rho\n",
    "        y0 = b*rho\n",
    "        x1 = int(x0 + 1000*(-b))\n",
    "        y1 = int(y0 + 1000*(a))\n",
    "        x2 = int(x0 - 1000*(-b))\n",
    "        y2 = int(y0 - 1000*(a))\n",
    "\n",
    "        cv2.line(img,(x1,y1),(x2,y2),(0,0,255),2)\n",
    "\n",
    "plt.imshow(img[:,:,::-1])\n",
    "cv2.imwrite('houghlines3.jpg',img)"
   ]
  },
  {
   "cell_type": "code",
   "execution_count": null,
   "metadata": {},
   "outputs": [],
   "source": [
    "print(len(lines))"
   ]
  },
  {
   "cell_type": "markdown",
   "metadata": {},
   "source": [
    "Probabilistic Hough"
   ]
  },
  {
   "cell_type": "code",
   "execution_count": null,
   "metadata": {},
   "outputs": [],
   "source": [
    "temp = exposure.rescale_intensity(edge_image, out_range=(-1.0, 1.0))\n",
    "# print(np.max(edge_image))\n",
    "# print(np.min(edge_image))\n",
    "\n",
    "edges = skimage.img_as_ubyte(np.clip(temp, -1, 1))\n",
    "\n",
    "# Probabilistic Hough Transform\n",
    "minLineLength = 400\n",
    "maxLineGap = 10\n",
    "\n",
    "lines = cv2.HoughLinesP(edges,1,np.pi/180,100,minLineLength,maxLineGap)\n",
    "\n",
    "for x in range(0, len(lines)):    \n",
    "    for x1,y1,x2,y2 in lines[x]:\n",
    "        cv2.line(img,(x1,y1),(x2,y2),(0,255,255),5)\n",
    "\n",
    "# cv2.imwrite('houghlines5.jpg',edges)\n",
    "plt.imshow(img[:,:,::-1])"
   ]
  },
  {
   "cell_type": "code",
   "execution_count": null,
   "metadata": {},
   "outputs": [],
   "source": [
    "print(len(lines))"
   ]
  },
  {
   "cell_type": "markdown",
   "metadata": {},
   "source": [
    "### Image entropy\n",
    "https://scikit-image.org/docs/dev/auto_examples/filters/plot_entropy.html\n",
    "\n",
    "discussion of image entropy: https://johnloomis.org/ece563/notes/basics/entropy/entropy.html\n"
   ]
  },
  {
   "cell_type": "code",
   "execution_count": null,
   "metadata": {},
   "outputs": [],
   "source": [
    "from skimage.filters.rank import entropy\n",
    "from skimage.morphology import disk\n",
    "from skimage.color import rgb2gray"
   ]
  },
  {
   "cell_type": "code",
   "execution_count": null,
   "metadata": {},
   "outputs": [],
   "source": [
    "img = landscape\n",
    "gray_img = rgb2gray(img)\n",
    "entr_img = entropy(gray_img, disk(10))\n",
    "io.imshow(entr_img)"
   ]
  },
  {
   "cell_type": "code",
   "execution_count": null,
   "metadata": {},
   "outputs": [],
   "source": [
    "img = abstract\n",
    "gray_img = rgb2gray(img)\n",
    "entr_img = entropy(gray_img, disk(10))\n",
    "io.imshow(entr_img)"
   ]
  },
  {
   "cell_type": "code",
   "execution_count": null,
   "metadata": {},
   "outputs": [],
   "source": []
  }
 ],
 "metadata": {
  "kernelspec": {
   "display_name": "Python 3",
   "language": "python",
   "name": "python3"
  },
  "language_info": {
   "codemirror_mode": {
    "name": "ipython",
    "version": 3
   },
   "file_extension": ".py",
   "mimetype": "text/x-python",
   "name": "python",
   "nbconvert_exporter": "python",
   "pygments_lexer": "ipython3",
   "version": "3.7.3"
  }
 },
 "nbformat": 4,
 "nbformat_minor": 4
}
